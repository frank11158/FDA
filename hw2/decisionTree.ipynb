{
 "cells": [
  {
   "cell_type": "code",
   "execution_count": 1,
   "metadata": {},
   "outputs": [],
   "source": [
    "import numpy as np\n",
    "import matplotlib.pyplot as plt\n",
    "import pandas as pd\n",
    "from sklearn.preprocessing import LabelEncoder, StandardScaler\n",
    "from sklearn.model_selection import train_test_split\n",
    "from sklearn.metrics import classification_report, confusion_matrix"
   ]
  },
  {
   "cell_type": "markdown",
   "metadata": {},
   "source": [
    "# Data Generation by Rules"
   ]
  },
  {
   "cell_type": "code",
   "execution_count": 2,
   "metadata": {},
   "outputs": [],
   "source": [
    "# Data description:\n",
    "# 4 attributes (k = 4), number of data = 1000 (M = 1200)\n",
    "#\n",
    "# Absolutely 'right' Rules: \n",
    "# 1. If 0 <= time <= 5, then class = No\n",
    "# 2. If outlook == Rainy, then class = No\n",
    "# 3. If temperature < 9 or temperature > 32, then class = No\n",
    "# 4. If temperature > 30 and humidity > 0.85, then class = No\n",
    "# 5. If temperature < 12 and outlook == Windy, then class = No\n",
    "# 6. Otherwise class = Yes\n",
    "\n",
    "with open(\"./Data/data.csv\", 'w', encoding = 'UTF-8') as f:\n",
    "    M = 1200\n",
    "    np.random.seed(0)\n",
    "    demo_list = ['Rainy','Sunny','Cloudy','Windy','Overcast']\n",
    "    outlook = np.random.choice(demo_list, size=M, p=[0.15,0.35,0.3,0.15,0.05])\n",
    "    humidity = np.random.rand(M)\n",
    "    temperature = np.random.randint(5, 36, size=M)\n",
    "    time = np.random.randint(0, 24, size=M)\n",
    "    f.write(\"outlook,humidity,temperature,time,hangingOut\\n\")\n",
    "    for i in range(0, M):\n",
    "        f.write(\"%s,\" % outlook[i])\n",
    "        if outlook[i] == 'Rainy':\n",
    "            humidity[i] = 1\n",
    "        f.write(\"%.4f,\" % humidity[i])\n",
    "        f.write(\"%d,\" % temperature[i])\n",
    "        f.write(\"%d,\" % time[i])\n",
    "        # Rules:\n",
    "        if 0 <= time[i] <= 5:\n",
    "            f.write(\"No\\n\")\n",
    "        elif outlook[i] == 'Rainy':\n",
    "            f.write(\"No\\n\")\n",
    "        elif temperature[i] < 9 or temperature[i] > 32:\n",
    "            f.write(\"No\\n\")\n",
    "        elif temperature[i] > 30 and humidity[i] > 0.85:\n",
    "            f.write(\"No\\n\")\n",
    "        elif temperature[i] < 12 and outlook[i] == 'Windy':\n",
    "            f.write(\"No\\n\")\n",
    "        else:\n",
    "            f.write(\"Yes\\n\")\n",
    "    f.close()"
   ]
  },
  {
   "cell_type": "code",
   "execution_count": 3,
   "metadata": {},
   "outputs": [],
   "source": [
    "dataset = pd.read_csv('./Data/data.csv')"
   ]
  },
  {
   "cell_type": "markdown",
   "metadata": {},
   "source": [
    "# Data Preprocessing"
   ]
  },
  {
   "cell_type": "code",
   "execution_count": 4,
   "metadata": {},
   "outputs": [],
   "source": [
    "dataset['outlook'] = LabelEncoder().fit_transform(dataset['outlook'])\n",
    "dataset['hangingOut'] = LabelEncoder().fit_transform(dataset['hangingOut'])\n",
    "\n",
    "X = dataset.drop('hangingOut', axis = 1)\n",
    "y = dataset['hangingOut']\n",
    "\n",
    "X_train, X_test, y_train, y_test = train_test_split(X, y, test_size = 0.25, random_state = 0)"
   ]
  },
  {
   "cell_type": "markdown",
   "metadata": {},
   "source": [
    "# Decision Tree"
   ]
  },
  {
   "cell_type": "code",
   "execution_count": 5,
   "metadata": {},
   "outputs": [
    {
     "name": "stdout",
     "output_type": "stream",
     "text": [
      "Result:\n",
      "              precision    recall  f1-score   support\n",
      "\n",
      "           0       1.00      0.99      0.99       169\n",
      "           1       0.98      1.00      0.99       131\n",
      "\n",
      "   micro avg       0.99      0.99      0.99       300\n",
      "   macro avg       0.99      0.99      0.99       300\n",
      "weighted avg       0.99      0.99      0.99       300\n",
      "\n",
      "[[167   2]\n",
      " [  0 131]]\n"
     ]
    }
   ],
   "source": [
    "# Decision-tree classifier\n",
    "from sklearn.tree import DecisionTreeClassifier\n",
    "DTC = DecisionTreeClassifier(random_state = 0, max_depth=6)\n",
    "DTC.fit(X_train, y_train)\n",
    "y_pred = DTC.predict(X_test)\n",
    "print(\"Result:\")\n",
    "print(classification_report(y_test, y_pred))\n",
    "print(confusion_matrix(y_test, y_pred))"
   ]
  },
  {
   "cell_type": "code",
   "execution_count": 6,
   "metadata": {},
   "outputs": [
    {
     "data": {
      "text/plain": [
       "True"
      ]
     },
     "execution_count": 6,
     "metadata": {},
     "output_type": "execute_result"
    }
   ],
   "source": [
    "# Decision tree relationship graph\n",
    "from sklearn.externals.six import StringIO  \n",
    "from IPython.display import Image  \n",
    "from sklearn.tree import export_graphviz\n",
    "import pydotplus\n",
    "dot_data = StringIO()\n",
    "export_graphviz(DTC, out_file=dot_data,\n",
    "                class_names=['Yes','No'],\n",
    "                feature_names=list(X_train),\n",
    "                filled=True, rounded=True,\n",
    "                special_characters=True)\n",
    "graph = pydotplus.graph_from_dot_data(dot_data.getvalue())  \n",
    "Image(graph.create_png())\n",
    "graph.write_png(\"tree.png\")"
   ]
  },
  {
   "cell_type": "code",
   "execution_count": 7,
   "metadata": {},
   "outputs": [
    {
     "name": "stderr",
     "output_type": "stream",
     "text": [
      "C:\\Users\\USER\\Anaconda3\\lib\\site-packages\\sklearn\\preprocessing\\data.py:645: DataConversionWarning: Data with input dtype int32, int64, float64 were all converted to float64 by StandardScaler.\n",
      "  return self.partial_fit(X, y)\n",
      "C:\\Users\\USER\\Anaconda3\\lib\\site-packages\\sklearn\\base.py:464: DataConversionWarning: Data with input dtype int32, int64, float64 were all converted to float64 by StandardScaler.\n",
      "  return self.fit(X, **fit_params).transform(X)\n",
      "C:\\Users\\USER\\Anaconda3\\lib\\site-packages\\ipykernel_launcher.py:3: DataConversionWarning: Data with input dtype int32, int64, float64 were all converted to float64 by StandardScaler.\n",
      "  This is separate from the ipykernel package so we can avoid doing imports until\n"
     ]
    }
   ],
   "source": [
    "sc = StandardScaler()\n",
    "X_train = sc.fit_transform(X_train)\n",
    "X_test = sc.transform(X_test)"
   ]
  },
  {
   "cell_type": "markdown",
   "metadata": {},
   "source": [
    "# SVC"
   ]
  },
  {
   "cell_type": "code",
   "execution_count": 8,
   "metadata": {},
   "outputs": [
    {
     "name": "stdout",
     "output_type": "stream",
     "text": [
      "Kernel SVC:\n",
      "              precision    recall  f1-score   support\n",
      "\n",
      "           0       0.93      0.95      0.94       169\n",
      "           1       0.93      0.91      0.92       131\n",
      "\n",
      "   micro avg       0.93      0.93      0.93       300\n",
      "   macro avg       0.93      0.93      0.93       300\n",
      "weighted avg       0.93      0.93      0.93       300\n",
      "\n",
      "[[160   9]\n",
      " [ 12 119]]\n"
     ]
    }
   ],
   "source": [
    "# Kernel SVC\n",
    "from sklearn.svm import SVC\n",
    "SVC = SVC(kernel = 'rbf', random_state = 0)\n",
    "SVC.fit(X_train, y_train)\n",
    "y_pred = SVC.predict(X_test)\n",
    "print(\"Kernel SVC:\")\n",
    "print(classification_report(y_test, y_pred))\n",
    "print(confusion_matrix(y_test, y_pred))"
   ]
  },
  {
   "cell_type": "markdown",
   "metadata": {},
   "source": [
    "# Random Forest"
   ]
  },
  {
   "cell_type": "code",
   "execution_count": 9,
   "metadata": {},
   "outputs": [
    {
     "name": "stdout",
     "output_type": "stream",
     "text": [
      "Random Forest:\n",
      "              precision    recall  f1-score   support\n",
      "\n",
      "           0       1.00      0.99      1.00       169\n",
      "           1       0.99      1.00      1.00       131\n",
      "\n",
      "   micro avg       1.00      1.00      1.00       300\n",
      "   macro avg       1.00      1.00      1.00       300\n",
      "weighted avg       1.00      1.00      1.00       300\n",
      "\n",
      "[[168   1]\n",
      " [  0 131]]\n"
     ]
    }
   ],
   "source": [
    "from sklearn.ensemble import RandomForestClassifier\n",
    "RFC = RandomForestClassifier(n_estimators = 200, criterion = 'entropy', random_state = 0)\n",
    "RFC.fit(X_train, y_train)\n",
    "y_pred = RFC.predict(X_test)\n",
    "print(\"Random Forest:\")\n",
    "print(classification_report(y_test, y_pred))\n",
    "print(confusion_matrix(y_test, y_pred))"
   ]
  },
  {
   "cell_type": "markdown",
   "metadata": {},
   "source": [
    "# Naive-bayes"
   ]
  },
  {
   "cell_type": "code",
   "execution_count": 10,
   "metadata": {},
   "outputs": [
    {
     "name": "stdout",
     "output_type": "stream",
     "text": [
      "Naive Bayes:\n",
      "              precision    recall  f1-score   support\n",
      "\n",
      "           0       0.83      0.82      0.82       169\n",
      "           1       0.77      0.78      0.77       131\n",
      "\n",
      "   micro avg       0.80      0.80      0.80       300\n",
      "   macro avg       0.80      0.80      0.80       300\n",
      "weighted avg       0.80      0.80      0.80       300\n",
      "\n",
      "[[138  31]\n",
      " [ 29 102]]\n"
     ]
    }
   ],
   "source": [
    "from sklearn.naive_bayes import GaussianNB\n",
    "NB = GaussianNB()\n",
    "NB.fit(X_train, y_train)\n",
    "y_pred = NB.predict(X_test)\n",
    "print(\"Naive Bayes:\")\n",
    "print(classification_report(y_test, y_pred))\n",
    "print(confusion_matrix(y_test, y_pred))"
   ]
  }
 ],
 "metadata": {
  "kernelspec": {
   "display_name": "Python 3",
   "language": "python",
   "name": "python3"
  },
  "language_info": {
   "codemirror_mode": {
    "name": "ipython",
    "version": 3
   },
   "file_extension": ".py",
   "mimetype": "text/x-python",
   "name": "python",
   "nbconvert_exporter": "python",
   "pygments_lexer": "ipython3",
   "version": "3.6.8"
  }
 },
 "nbformat": 4,
 "nbformat_minor": 2
}
