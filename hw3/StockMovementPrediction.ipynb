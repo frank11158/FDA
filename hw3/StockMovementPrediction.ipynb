{
 "cells": [
  {
   "cell_type": "markdown",
   "metadata": {},
   "source": [
    "# FDA HW3: Stock Price Movement Prediction"
   ]
  },
  {
   "cell_type": "markdown",
   "metadata": {},
   "source": [
    "## Description\n",
    "In this assignment I will predict the stock price movement by trying 3 machine learning methods: **Logistic Regression**, **Support Vector Machine** and **Neural Network**. I will also compare the results of these methods, and discuss the differences and the limits when predict stock price movement."
   ]
  },
  {
   "cell_type": "markdown",
   "metadata": {},
   "source": [
    "## Dataset\n",
    "S&P500 stock dataset, downloaded from [here](https://www.sharecast.com/index/SP_500/prices/download).\n",
    "* Training set: 2009/1/20 ~ 2017/12/29\n",
    "* Test set: 2018/1/2 ~ 2018/12/31\n",
    "\n",
    "The main purpose of this assignment is to practice machine learning methods on real world stock movement prediction. In order to simplify the process and increase the reality, I decided to download a larger dataset so as to generate more complete infromation for the training. That is, I will download a dataset with more dates before and after the time peroid mentioned above, and drop the extra part after data preprocessing."
   ]
  },
  {
   "cell_type": "code",
   "execution_count": 1,
   "metadata": {},
   "outputs": [
    {
     "name": "stderr",
     "output_type": "stream",
     "text": [
      "Using TensorFlow backend.\n"
     ]
    }
   ],
   "source": [
    "import numpy as np\n",
    "import pandas as pd\n",
    "import matplotlib.pyplot as plt\n",
    "from sklearn import linear_model, metrics, model_selection\n",
    "from sklearn.metrics import median_absolute_error, mean_squared_error, confusion_matrix\n",
    "from sklearn.preprocessing import StandardScaler\n",
    "from keras import models, layers, optimizers, regularizers"
   ]
  },
  {
   "cell_type": "code",
   "execution_count": 2,
   "metadata": {},
   "outputs": [],
   "source": [
    "data_train = pd.read_csv('./data/train.csv')\n",
    "data_test = pd.read_csv('./data/test.csv')\n",
    "data_test2 = pd.read_csv('./data/test2.csv')"
   ]
  },
  {
   "cell_type": "code",
   "execution_count": 3,
   "metadata": {},
   "outputs": [
    {
     "data": {
      "text/html": [
       "<div>\n",
       "<style scoped>\n",
       "    .dataframe tbody tr th:only-of-type {\n",
       "        vertical-align: middle;\n",
       "    }\n",
       "\n",
       "    .dataframe tbody tr th {\n",
       "        vertical-align: top;\n",
       "    }\n",
       "\n",
       "    .dataframe thead th {\n",
       "        text-align: right;\n",
       "    }\n",
       "</style>\n",
       "<table border=\"1\" class=\"dataframe\">\n",
       "  <thead>\n",
       "    <tr style=\"text-align: right;\">\n",
       "      <th></th>\n",
       "      <th>Date</th>\n",
       "      <th>Open Price</th>\n",
       "      <th>Close Price</th>\n",
       "      <th>High Price</th>\n",
       "      <th>Low Price</th>\n",
       "      <th>Volume</th>\n",
       "    </tr>\n",
       "  </thead>\n",
       "  <tbody>\n",
       "    <tr>\n",
       "      <th>2263</th>\n",
       "      <td>29-Dec-2017</td>\n",
       "      <td>2689.15</td>\n",
       "      <td>2673.61</td>\n",
       "      <td>2692.12</td>\n",
       "      <td>2673.61</td>\n",
       "      <td>1332374016</td>\n",
       "    </tr>\n",
       "    <tr>\n",
       "      <th>2264</th>\n",
       "      <td>02-Jan-2018</td>\n",
       "      <td>2683.73</td>\n",
       "      <td>2695.81</td>\n",
       "      <td>2695.89</td>\n",
       "      <td>2682.36</td>\n",
       "      <td>1846463232</td>\n",
       "    </tr>\n",
       "    <tr>\n",
       "      <th>2265</th>\n",
       "      <td>03-Jan-2018</td>\n",
       "      <td>2697.85</td>\n",
       "      <td>2713.06</td>\n",
       "      <td>2714.37</td>\n",
       "      <td>2697.77</td>\n",
       "      <td>2090595328</td>\n",
       "    </tr>\n",
       "    <tr>\n",
       "      <th>2266</th>\n",
       "      <td>04-Jan-2018</td>\n",
       "      <td>2719.31</td>\n",
       "      <td>2723.99</td>\n",
       "      <td>2729.29</td>\n",
       "      <td>2719.07</td>\n",
       "      <td>2100767744</td>\n",
       "    </tr>\n",
       "    <tr>\n",
       "      <th>2267</th>\n",
       "      <td>05-Jan-2018</td>\n",
       "      <td>2731.33</td>\n",
       "      <td>2743.15</td>\n",
       "      <td>2743.45</td>\n",
       "      <td>2727.92</td>\n",
       "      <td>1918869120</td>\n",
       "    </tr>\n",
       "    <tr>\n",
       "      <th>2268</th>\n",
       "      <td>08-Jan-2018</td>\n",
       "      <td>2742.67</td>\n",
       "      <td>2747.71</td>\n",
       "      <td>2748.51</td>\n",
       "      <td>2737.60</td>\n",
       "      <td>1894823936</td>\n",
       "    </tr>\n",
       "    <tr>\n",
       "      <th>2269</th>\n",
       "      <td>09-Jan-2018</td>\n",
       "      <td>2751.15</td>\n",
       "      <td>2751.29</td>\n",
       "      <td>2759.14</td>\n",
       "      <td>2747.86</td>\n",
       "      <td>1957263872</td>\n",
       "    </tr>\n",
       "    <tr>\n",
       "      <th>2270</th>\n",
       "      <td>10-Jan-2018</td>\n",
       "      <td>2745.55</td>\n",
       "      <td>2748.23</td>\n",
       "      <td>2750.80</td>\n",
       "      <td>2736.06</td>\n",
       "      <td>2048867328</td>\n",
       "    </tr>\n",
       "    <tr>\n",
       "      <th>2271</th>\n",
       "      <td>11-Jan-2018</td>\n",
       "      <td>2752.97</td>\n",
       "      <td>2767.56</td>\n",
       "      <td>2767.56</td>\n",
       "      <td>2752.78</td>\n",
       "      <td>1978592384</td>\n",
       "    </tr>\n",
       "    <tr>\n",
       "      <th>2272</th>\n",
       "      <td>12-Jan-2018</td>\n",
       "      <td>2770.18</td>\n",
       "      <td>2786.24</td>\n",
       "      <td>2787.85</td>\n",
       "      <td>2769.64</td>\n",
       "      <td>2108422912</td>\n",
       "    </tr>\n",
       "    <tr>\n",
       "      <th>2273</th>\n",
       "      <td>16-Jan-2018</td>\n",
       "      <td>2798.96</td>\n",
       "      <td>2776.42</td>\n",
       "      <td>2807.54</td>\n",
       "      <td>2768.64</td>\n",
       "      <td>2532135680</td>\n",
       "    </tr>\n",
       "  </tbody>\n",
       "</table>\n",
       "</div>"
      ],
      "text/plain": [
       "             Date  Open Price  Close Price  High Price  Low Price      Volume\n",
       "2263  29-Dec-2017     2689.15      2673.61     2692.12    2673.61  1332374016\n",
       "2264  02-Jan-2018     2683.73      2695.81     2695.89    2682.36  1846463232\n",
       "2265  03-Jan-2018     2697.85      2713.06     2714.37    2697.77  2090595328\n",
       "2266  04-Jan-2018     2719.31      2723.99     2729.29    2719.07  2100767744\n",
       "2267  05-Jan-2018     2731.33      2743.15     2743.45    2727.92  1918869120\n",
       "2268  08-Jan-2018     2742.67      2747.71     2748.51    2737.60  1894823936\n",
       "2269  09-Jan-2018     2751.15      2751.29     2759.14    2747.86  1957263872\n",
       "2270  10-Jan-2018     2745.55      2748.23     2750.80    2736.06  2048867328\n",
       "2271  11-Jan-2018     2752.97      2767.56     2767.56    2752.78  1978592384\n",
       "2272  12-Jan-2018     2770.18      2786.24     2787.85    2769.64  2108422912\n",
       "2273  16-Jan-2018     2798.96      2776.42     2807.54    2768.64  2532135680"
      ]
     },
     "execution_count": 3,
     "metadata": {},
     "output_type": "execute_result"
    }
   ],
   "source": [
    "data_train.tail(11)"
   ]
  },
  {
   "cell_type": "code",
   "execution_count": 4,
   "metadata": {},
   "outputs": [
    {
     "data": {
      "text/plain": [
       "Date            object\n",
       "Open Price     float64\n",
       "Close Price    float64\n",
       "High Price     float64\n",
       "Low Price      float64\n",
       "Volume           int64\n",
       "dtype: object"
      ]
     },
     "execution_count": 4,
     "metadata": {},
     "output_type": "execute_result"
    }
   ],
   "source": [
    "data_train.dtypes"
   ]
  },
  {
   "cell_type": "code",
   "execution_count": 5,
   "metadata": {},
   "outputs": [
    {
     "name": "stdout",
     "output_type": "stream",
     "text": [
      "(2274, 6) (508, 6)\n"
     ]
    }
   ],
   "source": [
    "print(data_train.shape, data_test.shape)"
   ]
  },
  {
   "cell_type": "code",
   "execution_count": 6,
   "metadata": {},
   "outputs": [
    {
     "data": {
      "text/plain": [
       "[<matplotlib.lines.Line2D at 0x239220035c0>]"
      ]
     },
     "execution_count": 6,
     "metadata": {},
     "output_type": "execute_result"
    },
    {
     "data": {
      "image/png": "[encoded data removed]",
      "text/plain": [
       "<Figure size 432x288 with 1 Axes>"
      ]
     },
     "metadata": {
      "needs_background": "light"
     },
     "output_type": "display_data"
    }
   ],
   "source": [
    "plt.plot(data_train['Close Price'])"
   ]
  },
  {
   "cell_type": "code",
   "execution_count": 7,
   "metadata": {},
   "outputs": [
    {
     "data": {
      "text/plain": [
       "[<matplotlib.lines.Line2D at 0x23922088cc0>]"
      ]
     },
     "execution_count": 7,
     "metadata": {},
     "output_type": "execute_result"
    },
    {
     "data": {
      "image/png": "[encoded data removed]",
      "text/plain": [
       "<Figure size 432x288 with 1 Axes>"
      ]
     },
     "metadata": {
      "needs_background": "light"
     },
     "output_type": "display_data"
    }
   ],
   "source": [
    "plt.plot(data_test['Close Price'])"
   ]
  },
  {
   "cell_type": "code",
   "execution_count": 8,
   "metadata": {},
   "outputs": [],
   "source": [
    "# plt.plot(data_test2['Close Price'])"
   ]
  },
  {
   "cell_type": "markdown",
   "metadata": {},
   "source": [
    "## Data Preprocessing"
   ]
  },
  {
   "cell_type": "markdown",
   "metadata": {},
   "source": [
    "### Stock Movement (Returns for the future 10 days)\n",
    "Our goal is to predict the stock price movement, so here I create a **returns** value, indicating the extent to which the stock price moving up or down in the following 10 days. (The reason why I choose 10 for prediction is that 10 days is a medium term time peroid, which is harder than predicting short term movement and esier than predicting long term movement.)"
   ]
  },
  {
   "cell_type": "code",
   "execution_count": 9,
   "metadata": {},
   "outputs": [],
   "source": [
    "def Next10Retruns(df):\n",
    "    returnsNext10 = (df['Close Price'].shift(-10)-df['Close Price']) / df['Close Price']\n",
    "    binary_target = (returnsNext10 >= 0).astype('int8')\n",
    "    return returnsNext10, binary_target\n",
    "\n",
    "def Next1Retruns(df):\n",
    "    returnsNext1 = (df['Close Price'].shift(-1)-df['Close Price']) / df['Close Price']\n",
    "    binary_target = (returnsNext1 >= 0).astype('int8')\n",
    "    return returnsNext1, binary_target\n",
    "\n",
    "y_train_num, y_train = Next10Retruns(data_train)\n",
    "# y_train_num, y_train = Next1Retruns(data_train)\n",
    "y_train_num = y_train_num[y_train_num.index <= 2263] # the number 2263 row is the date of 2017/12/29\n",
    "y_train_num = y_train_num[26 <= y_train_num.index]\n",
    "y_train = y_train[y_train.index <= 2263]\n",
    "y_train = y_train[26 <= y_train.index]\n",
    "# y_train_num"
   ]
  },
  {
   "cell_type": "code",
   "execution_count": 10,
   "metadata": {},
   "outputs": [
    {
     "data": {
      "text/plain": [
       "<matplotlib.lines.Line2D at 0x23922060710>"
      ]
     },
     "execution_count": 10,
     "metadata": {},
     "output_type": "execute_result"
    },
    {
     "data": {
      "image/png": "[encoded data removed]",
      "text/plain": [
       "<Figure size 432x288 with 1 Axes>"
      ]
     },
     "metadata": {
      "needs_background": "light"
     },
     "output_type": "display_data"
    }
   ],
   "source": [
    "plt.plot(y_train_num)\n",
    "plt.axhline(0, color= 'black')"
   ]
  },
  {
   "cell_type": "code",
   "execution_count": 11,
   "metadata": {},
   "outputs": [
    {
     "name": "stdout",
     "output_type": "stream",
     "text": [
      "1429 809\n"
     ]
    }
   ],
   "source": [
    "print(len(y_train[y_train == 1]), len(y_train[y_train == 0]))\n",
    "# print('proportion of rising %f' % len(y_train[y_train == 1])/len(y_train))"
   ]
  },
  {
   "cell_type": "markdown",
   "metadata": {},
   "source": [
    "### Feature Generation\n",
    "* Create Returns: 1 days and 10 days\n",
    "* Create Lags\n",
    "* Some techinical analysis indexes"
   ]
  },
  {
   "cell_type": "markdown",
   "metadata": {},
   "source": [
    "#### 1.Create Returns"
   ]
  },
  {
   "cell_type": "code",
   "execution_count": 12,
   "metadata": {},
   "outputs": [],
   "source": [
    "def PreReturns(df):\n",
    "    df['returnsPre10'] = (df['Close Price']-df['Close Price'].shift(10)) / df['Close Price'].shift(10)\n",
    "    df['returnsPre1'] = (df['Close Price']-df['Close Price'].shift(1)) / df['Close Price'].shift(1)\n",
    "    return df\n",
    "\n",
    "data_train = PreReturns(data_train)\n",
    "# data_train.head(20)"
   ]
  },
  {
   "cell_type": "markdown",
   "metadata": {},
   "source": [
    "#### 2.Create Lags\n",
    "Create lags for **Open Price**, **Close Price**, **returnsPre10** and **returnsPre1** with 3, 7, and 14 days."
   ]
  },
  {
   "cell_type": "code",
   "execution_count": 13,
   "metadata": {},
   "outputs": [],
   "source": [
    "# def create_lags(df, features_to_lags, n_lag=[3,5,10], shift_size=1):\n",
    "#     for col in features_to_lags:\n",
    "#         for window in n_lag:\n",
    "#             rolled = df[col].shift(shift_size).rolling(window=window)\n",
    "#             lag_mean = rolled.mean()\n",
    "#             lag_max = rolled.max()\n",
    "#             lag_min = rolled.min()\n",
    "#             df['%s_lag_%s_mean'%(col,window)] = lag_mean\n",
    "#             df['%s_lag_%s_max'%(col,window)] = lag_max\n",
    "#             df['%s_lag_%s_min'%(col,window)] = lag_min\n",
    "#     return df\n",
    "\n",
    "# # features_to_lags = ['Open Price', 'Close Price', 'returnsPre10', 'returnsPre1']\n",
    "# features_to_lags = ['returnsPre10']\n",
    "# # features_to_lags = ['returnsPre1']\n",
    "# data_train = create_lags(data_train, features_to_lags)"
   ]
  },
  {
   "cell_type": "code",
   "execution_count": 14,
   "metadata": {},
   "outputs": [],
   "source": [
    "def create_lags(data, features_to_lags):\n",
    "    for i in range(1, 10):\n",
    "        for col in features_to_lags:\n",
    "            data[\"lag_{}\".format(i)] = data[col].shift(i)\n",
    "    return data\n",
    "\n",
    "features_to_lags = ['returnsPre10']\n",
    "data_train = create_lags(data_train, features_to_lags)"
   ]
  },
  {
   "cell_type": "markdown",
   "metadata": {},
   "source": [
    "#### 3.Some Index of  Technical Analysis\n",
    "* MACD\n",
    "* RSI"
   ]
  },
  {
   "cell_type": "code",
   "execution_count": 15,
   "metadata": {},
   "outputs": [],
   "source": [
    "import math\n",
    "def rsiFunc(prices, n=14):\n",
    "    deltas = np.diff(prices)\n",
    "    seed = deltas[:n+1]\n",
    "    up = seed[seed>=0].sum()/n\n",
    "    down = -seed[seed<0].sum()/n\n",
    "    rs = (up/down) if down != 0 else math.inf\n",
    "    rsi = np.zeros_like(prices)\n",
    "    rsi[:n] = 100. - 100./(1.+rs)\n",
    "\n",
    "    for i in range(n, len(prices)):\n",
    "        delta = deltas[i-1] # cause the diff is 1 shorter\n",
    "        if delta>0:\n",
    "            upval = delta\n",
    "            downval = 0.\n",
    "        else:\n",
    "            upval = 0.\n",
    "            downval = -delta\n",
    "        up = (up*(n-1) + upval)/n\n",
    "        down = (down*(n-1) + downval)/n\n",
    "        rs = up/down  if down != 0 else math.inf\n",
    "        rsi[i] = 100. - 100./(1.+rs)\n",
    "\n",
    "    return rsi"
   ]
  },
  {
   "cell_type": "code",
   "execution_count": 16,
   "metadata": {},
   "outputs": [],
   "source": [
    "# Create MACD and RSI index\n",
    "def createIndex(df):\n",
    "    ewma = pd.Series.ewm\n",
    "    df['close_26EMA'] = ewma(df[\"Close Price\"], span=26).mean()\n",
    "    df['close_12EMA'] = ewma(df[\"Close Price\"], span=12).mean()\n",
    "    df['MACD'] = df['close_12EMA'] - df['close_26EMA']\n",
    "    df['rsi_14'] = rsiFunc(df['Close Price'].values, 14)\n",
    "    df['rsi_6'] = rsiFunc(df['Close Price'].values, 6)\n",
    "    df = df.drop(['close_26EMA', 'close_12EMA'], axis=1)\n",
    "    return df\n",
    "\n",
    "data_train = createIndex(data_train)\n",
    "# data_train.loc[:20, ['MACD', 'rsi_14', 'rsi_6']]"
   ]
  },
  {
   "cell_type": "code",
   "execution_count": 17,
   "metadata": {},
   "outputs": [
    {
     "data": {
      "text/html": [
       "<div>\n",
       "<style scoped>\n",
       "    .dataframe tbody tr th:only-of-type {\n",
       "        vertical-align: middle;\n",
       "    }\n",
       "\n",
       "    .dataframe tbody tr th {\n",
       "        vertical-align: top;\n",
       "    }\n",
       "\n",
       "    .dataframe thead th {\n",
       "        text-align: right;\n",
       "    }\n",
       "</style>\n",
       "<table border=\"1\" class=\"dataframe\">\n",
       "  <thead>\n",
       "    <tr style=\"text-align: right;\">\n",
       "      <th></th>\n",
       "      <th>Open Price</th>\n",
       "      <th>Close Price</th>\n",
       "      <th>Volume</th>\n",
       "      <th>returnsPre10</th>\n",
       "      <th>returnsPre1</th>\n",
       "      <th>lag_1</th>\n",
       "      <th>lag_2</th>\n",
       "      <th>lag_3</th>\n",
       "      <th>lag_4</th>\n",
       "      <th>lag_5</th>\n",
       "      <th>lag_6</th>\n",
       "      <th>lag_7</th>\n",
       "      <th>lag_8</th>\n",
       "      <th>lag_9</th>\n",
       "      <th>MACD</th>\n",
       "      <th>rsi_14</th>\n",
       "      <th>rsi_6</th>\n",
       "    </tr>\n",
       "  </thead>\n",
       "  <tbody>\n",
       "    <tr>\n",
       "      <th>26</th>\n",
       "      <td>866.87</td>\n",
       "      <td>827.16</td>\n",
       "      <td>6770169856</td>\n",
       "      <td>-0.021934</td>\n",
       "      <td>-0.049121</td>\n",
       "      <td>0.039829</td>\n",
       "      <td>0.044053</td>\n",
       "      <td>0.022175</td>\n",
       "      <td>-0.009533</td>\n",
       "      <td>0.041343</td>\n",
       "      <td>-0.029031</td>\n",
       "      <td>-0.021168</td>\n",
       "      <td>0.002991</td>\n",
       "      <td>0.002638</td>\n",
       "      <td>-3.721304</td>\n",
       "      <td>39.270677</td>\n",
       "      <td>38.876991</td>\n",
       "    </tr>\n",
       "    <tr>\n",
       "      <th>27</th>\n",
       "      <td>827.41</td>\n",
       "      <td>833.74</td>\n",
       "      <td>5926459904</td>\n",
       "      <td>-0.046162</td>\n",
       "      <td>0.007955</td>\n",
       "      <td>-0.021934</td>\n",
       "      <td>0.039829</td>\n",
       "      <td>0.044053</td>\n",
       "      <td>0.022175</td>\n",
       "      <td>-0.009533</td>\n",
       "      <td>0.041343</td>\n",
       "      <td>-0.029031</td>\n",
       "      <td>-0.021168</td>\n",
       "      <td>0.002991</td>\n",
       "      <td>-4.287093</td>\n",
       "      <td>41.137371</td>\n",
       "      <td>43.083591</td>\n",
       "    </tr>\n",
       "    <tr>\n",
       "      <th>28</th>\n",
       "      <td>829.91</td>\n",
       "      <td>835.19</td>\n",
       "      <td>6476460032</td>\n",
       "      <td>-0.011773</td>\n",
       "      <td>0.001739</td>\n",
       "      <td>-0.046162</td>\n",
       "      <td>-0.021934</td>\n",
       "      <td>0.039829</td>\n",
       "      <td>0.044053</td>\n",
       "      <td>0.022175</td>\n",
       "      <td>-0.009533</td>\n",
       "      <td>0.041343</td>\n",
       "      <td>-0.029031</td>\n",
       "      <td>-0.021168</td>\n",
       "      <td>-4.574159</td>\n",
       "      <td>41.563641</td>\n",
       "      <td>44.100904</td>\n",
       "    </tr>\n",
       "    <tr>\n",
       "      <th>29</th>\n",
       "      <td>833.95</td>\n",
       "      <td>826.84</td>\n",
       "      <td>5296650240</td>\n",
       "      <td>0.001162</td>\n",
       "      <td>-0.009998</td>\n",
       "      <td>-0.011773</td>\n",
       "      <td>-0.046162</td>\n",
       "      <td>-0.021934</td>\n",
       "      <td>0.039829</td>\n",
       "      <td>0.044053</td>\n",
       "      <td>0.022175</td>\n",
       "      <td>-0.009533</td>\n",
       "      <td>0.041343</td>\n",
       "      <td>-0.029031</td>\n",
       "      <td>-5.351632</td>\n",
       "      <td>39.777225</td>\n",
       "      <td>39.252645</td>\n",
       "    </tr>\n",
       "    <tr>\n",
       "      <th>30</th>\n",
       "      <td>818.61</td>\n",
       "      <td>789.17</td>\n",
       "      <td>5907820032</td>\n",
       "      <td>-0.043940</td>\n",
       "      <td>-0.045559</td>\n",
       "      <td>0.001162</td>\n",
       "      <td>-0.011773</td>\n",
       "      <td>-0.046162</td>\n",
       "      <td>-0.021934</td>\n",
       "      <td>0.039829</td>\n",
       "      <td>0.044053</td>\n",
       "      <td>0.022175</td>\n",
       "      <td>-0.009533</td>\n",
       "      <td>0.041343</td>\n",
       "      <td>-8.651936</td>\n",
       "      <td>32.905950</td>\n",
       "      <td>24.607448</td>\n",
       "    </tr>\n",
       "    <tr>\n",
       "      <th>31</th>\n",
       "      <td>791.06</td>\n",
       "      <td>788.42</td>\n",
       "      <td>5740709888</td>\n",
       "      <td>-0.059737</td>\n",
       "      <td>-0.000950</td>\n",
       "      <td>-0.043940</td>\n",
       "      <td>0.001162</td>\n",
       "      <td>-0.011773</td>\n",
       "      <td>-0.046162</td>\n",
       "      <td>-0.021934</td>\n",
       "      <td>0.039829</td>\n",
       "      <td>0.044053</td>\n",
       "      <td>0.022175</td>\n",
       "      <td>-0.009533</td>\n",
       "      <td>-11.185732</td>\n",
       "      <td>32.784521</td>\n",
       "      <td>24.390035</td>\n",
       "    </tr>\n",
       "    <tr>\n",
       "      <th>32</th>\n",
       "      <td>787.91</td>\n",
       "      <td>778.94</td>\n",
       "      <td>5746939904</td>\n",
       "      <td>-0.064033</td>\n",
       "      <td>-0.012024</td>\n",
       "      <td>-0.059737</td>\n",
       "      <td>-0.043940</td>\n",
       "      <td>0.001162</td>\n",
       "      <td>-0.011773</td>\n",
       "      <td>-0.046162</td>\n",
       "      <td>-0.021934</td>\n",
       "      <td>0.039829</td>\n",
       "      <td>0.044053</td>\n",
       "      <td>0.022175</td>\n",
       "      <td>-13.738970</td>\n",
       "      <td>31.216460</td>\n",
       "      <td>21.507718</td>\n",
       "    </tr>\n",
       "    <tr>\n",
       "      <th>33</th>\n",
       "      <td>775.87</td>\n",
       "      <td>770.05</td>\n",
       "      <td>8210590208</td>\n",
       "      <td>-0.089614</td>\n",
       "      <td>-0.011413</td>\n",
       "      <td>-0.064033</td>\n",
       "      <td>-0.059737</td>\n",
       "      <td>-0.043940</td>\n",
       "      <td>0.001162</td>\n",
       "      <td>-0.011773</td>\n",
       "      <td>-0.046162</td>\n",
       "      <td>-0.021934</td>\n",
       "      <td>0.039829</td>\n",
       "      <td>0.044053</td>\n",
       "      <td>-16.238659</td>\n",
       "      <td>29.778094</td>\n",
       "      <td>18.983226</td>\n",
       "    </tr>\n",
       "    <tr>\n",
       "      <th>34</th>\n",
       "      <td>773.25</td>\n",
       "      <td>743.33</td>\n",
       "      <td>6509300224</td>\n",
       "      <td>-0.144221</td>\n",
       "      <td>-0.034699</td>\n",
       "      <td>-0.089614</td>\n",
       "      <td>-0.064033</td>\n",
       "      <td>-0.059737</td>\n",
       "      <td>-0.043940</td>\n",
       "      <td>0.001162</td>\n",
       "      <td>-0.011773</td>\n",
       "      <td>-0.046162</td>\n",
       "      <td>-0.021934</td>\n",
       "      <td>0.039829</td>\n",
       "      <td>-20.006222</td>\n",
       "      <td>25.913290</td>\n",
       "      <td>13.337041</td>\n",
       "    </tr>\n",
       "    <tr>\n",
       "      <th>35</th>\n",
       "      <td>744.69</td>\n",
       "      <td>773.14</td>\n",
       "      <td>7234489344</td>\n",
       "      <td>-0.111221</td>\n",
       "      <td>0.040103</td>\n",
       "      <td>-0.144221</td>\n",
       "      <td>-0.089614</td>\n",
       "      <td>-0.064033</td>\n",
       "      <td>-0.059737</td>\n",
       "      <td>-0.043940</td>\n",
       "      <td>0.001162</td>\n",
       "      <td>-0.011773</td>\n",
       "      <td>-0.046162</td>\n",
       "      <td>-0.021934</td>\n",
       "      <td>-20.481214</td>\n",
       "      <td>35.907491</td>\n",
       "      <td>38.017813</td>\n",
       "    </tr>\n",
       "    <tr>\n",
       "      <th>36</th>\n",
       "      <td>770.64</td>\n",
       "      <td>764.90</td>\n",
       "      <td>7483639808</td>\n",
       "      <td>-0.075270</td>\n",
       "      <td>-0.010658</td>\n",
       "      <td>-0.111221</td>\n",
       "      <td>-0.144221</td>\n",
       "      <td>-0.089614</td>\n",
       "      <td>-0.064033</td>\n",
       "      <td>-0.059737</td>\n",
       "      <td>-0.043940</td>\n",
       "      <td>0.001162</td>\n",
       "      <td>-0.011773</td>\n",
       "      <td>-0.046162</td>\n",
       "      <td>-21.239600</td>\n",
       "      <td>34.521233</td>\n",
       "      <td>34.736430</td>\n",
       "    </tr>\n",
       "    <tr>\n",
       "      <th>37</th>\n",
       "      <td>765.76</td>\n",
       "      <td>752.83</td>\n",
       "      <td>7599969792</td>\n",
       "      <td>-0.097045</td>\n",
       "      <td>-0.015780</td>\n",
       "      <td>-0.075270</td>\n",
       "      <td>-0.111221</td>\n",
       "      <td>-0.144221</td>\n",
       "      <td>-0.089614</td>\n",
       "      <td>-0.064033</td>\n",
       "      <td>-0.059737</td>\n",
       "      <td>-0.043940</td>\n",
       "      <td>0.001162</td>\n",
       "      <td>-0.011773</td>\n",
       "      <td>-22.504273</td>\n",
       "      <td>32.539546</td>\n",
       "      <td>30.160589</td>\n",
       "    </tr>\n",
       "    <tr>\n",
       "      <th>38</th>\n",
       "      <td>749.93</td>\n",
       "      <td>735.09</td>\n",
       "      <td>8926480384</td>\n",
       "      <td>-0.119853</td>\n",
       "      <td>-0.023564</td>\n",
       "      <td>-0.097045</td>\n",
       "      <td>-0.075270</td>\n",
       "      <td>-0.111221</td>\n",
       "      <td>-0.144221</td>\n",
       "      <td>-0.089614</td>\n",
       "      <td>-0.064033</td>\n",
       "      <td>-0.059737</td>\n",
       "      <td>-0.043940</td>\n",
       "      <td>0.001162</td>\n",
       "      <td>-24.585989</td>\n",
       "      <td>29.829218</td>\n",
       "      <td>24.474357</td>\n",
       "    </tr>\n",
       "    <tr>\n",
       "      <th>39</th>\n",
       "      <td>729.57</td>\n",
       "      <td>700.82</td>\n",
       "      <td>7868289536</td>\n",
       "      <td>-0.152412</td>\n",
       "      <td>-0.046620</td>\n",
       "      <td>-0.119853</td>\n",
       "      <td>-0.097045</td>\n",
       "      <td>-0.075270</td>\n",
       "      <td>-0.111221</td>\n",
       "      <td>-0.144221</td>\n",
       "      <td>-0.089614</td>\n",
       "      <td>-0.064033</td>\n",
       "      <td>-0.059737</td>\n",
       "      <td>-0.043940</td>\n",
       "      <td>-28.551062</td>\n",
       "      <td>25.423725</td>\n",
       "      <td>17.031026</td>\n",
       "    </tr>\n",
       "    <tr>\n",
       "      <th>40</th>\n",
       "      <td>704.44</td>\n",
       "      <td>696.33</td>\n",
       "      <td>7583230464</td>\n",
       "      <td>-0.117643</td>\n",
       "      <td>-0.006407</td>\n",
       "      <td>-0.152412</td>\n",
       "      <td>-0.119853</td>\n",
       "      <td>-0.097045</td>\n",
       "      <td>-0.075270</td>\n",
       "      <td>-0.111221</td>\n",
       "      <td>-0.144221</td>\n",
       "      <td>-0.089614</td>\n",
       "      <td>-0.064033</td>\n",
       "      <td>-0.059737</td>\n",
       "      <td>-31.671463</td>\n",
       "      <td>24.904743</td>\n",
       "      <td>16.253840</td>\n",
       "    </tr>\n",
       "    <tr>\n",
       "      <th>41</th>\n",
       "      <td>698.60</td>\n",
       "      <td>712.87</td>\n",
       "      <td>7673619968</td>\n",
       "      <td>-0.095825</td>\n",
       "      <td>0.023753</td>\n",
       "      <td>-0.117643</td>\n",
       "      <td>-0.152412</td>\n",
       "      <td>-0.119853</td>\n",
       "      <td>-0.097045</td>\n",
       "      <td>-0.075270</td>\n",
       "      <td>-0.111221</td>\n",
       "      <td>-0.144221</td>\n",
       "      <td>-0.089614</td>\n",
       "      <td>-0.064033</td>\n",
       "      <td>-32.479805</td>\n",
       "      <td>30.530495</td>\n",
       "      <td>30.311584</td>\n",
       "    </tr>\n",
       "    <tr>\n",
       "      <th>42</th>\n",
       "      <td>708.27</td>\n",
       "      <td>682.55</td>\n",
       "      <td>7507249664</td>\n",
       "      <td>-0.123745</td>\n",
       "      <td>-0.042532</td>\n",
       "      <td>-0.095825</td>\n",
       "      <td>-0.117643</td>\n",
       "      <td>-0.152412</td>\n",
       "      <td>-0.119853</td>\n",
       "      <td>-0.097045</td>\n",
       "      <td>-0.075270</td>\n",
       "      <td>-0.111221</td>\n",
       "      <td>-0.144221</td>\n",
       "      <td>-0.089614</td>\n",
       "      <td>-35.077507</td>\n",
       "      <td>26.596996</td>\n",
       "      <td>22.137292</td>\n",
       "    </tr>\n",
       "    <tr>\n",
       "      <th>43</th>\n",
       "      <td>684.04</td>\n",
       "      <td>683.38</td>\n",
       "      <td>7331830272</td>\n",
       "      <td>-0.112551</td>\n",
       "      <td>0.001216</td>\n",
       "      <td>-0.123745</td>\n",
       "      <td>-0.095825</td>\n",
       "      <td>-0.117643</td>\n",
       "      <td>-0.152412</td>\n",
       "      <td>-0.119853</td>\n",
       "      <td>-0.097045</td>\n",
       "      <td>-0.075270</td>\n",
       "      <td>-0.111221</td>\n",
       "      <td>-0.144221</td>\n",
       "      <td>-36.645523</td>\n",
       "      <td>26.874741</td>\n",
       "      <td>22.821000</td>\n",
       "    </tr>\n",
       "    <tr>\n",
       "      <th>44</th>\n",
       "      <td>680.76</td>\n",
       "      <td>676.53</td>\n",
       "      <td>7277320192</td>\n",
       "      <td>-0.089866</td>\n",
       "      <td>-0.010024</td>\n",
       "      <td>-0.112551</td>\n",
       "      <td>-0.123745</td>\n",
       "      <td>-0.095825</td>\n",
       "      <td>-0.117643</td>\n",
       "      <td>-0.152412</td>\n",
       "      <td>-0.119853</td>\n",
       "      <td>-0.097045</td>\n",
       "      <td>-0.075270</td>\n",
       "      <td>-0.111221</td>\n",
       "      <td>-37.984332</td>\n",
       "      <td>26.000344</td>\n",
       "      <td>20.995193</td>\n",
       "    </tr>\n",
       "    <tr>\n",
       "      <th>45</th>\n",
       "      <td>679.28</td>\n",
       "      <td>719.60</td>\n",
       "      <td>8618330112</td>\n",
       "      <td>-0.069250</td>\n",
       "      <td>0.063663</td>\n",
       "      <td>-0.089866</td>\n",
       "      <td>-0.112551</td>\n",
       "      <td>-0.123745</td>\n",
       "      <td>-0.095825</td>\n",
       "      <td>-0.117643</td>\n",
       "      <td>-0.152412</td>\n",
       "      <td>-0.119853</td>\n",
       "      <td>-0.097045</td>\n",
       "      <td>-0.075270</td>\n",
       "      <td>-35.254429</td>\n",
       "      <td>39.359931</td>\n",
       "      <td>50.734408</td>\n",
       "    </tr>\n",
       "  </tbody>\n",
       "</table>\n",
       "</div>"
      ],
      "text/plain": [
       "    Open Price  Close Price      Volume  returnsPre10  returnsPre1     lag_1  \\\n",
       "26      866.87       827.16  6770169856     -0.021934    -0.049121  0.039829   \n",
       "27      827.41       833.74  5926459904     -0.046162     0.007955 -0.021934   \n",
       "28      829.91       835.19  6476460032     -0.011773     0.001739 -0.046162   \n",
       "29      833.95       826.84  5296650240      0.001162    -0.009998 -0.011773   \n",
       "30      818.61       789.17  5907820032     -0.043940    -0.045559  0.001162   \n",
       "31      791.06       788.42  5740709888     -0.059737    -0.000950 -0.043940   \n",
       "32      787.91       778.94  5746939904     -0.064033    -0.012024 -0.059737   \n",
       "33      775.87       770.05  8210590208     -0.089614    -0.011413 -0.064033   \n",
       "34      773.25       743.33  6509300224     -0.144221    -0.034699 -0.089614   \n",
       "35      744.69       773.14  7234489344     -0.111221     0.040103 -0.144221   \n",
       "36      770.64       764.90  7483639808     -0.075270    -0.010658 -0.111221   \n",
       "37      765.76       752.83  7599969792     -0.097045    -0.015780 -0.075270   \n",
       "38      749.93       735.09  8926480384     -0.119853    -0.023564 -0.097045   \n",
       "39      729.57       700.82  7868289536     -0.152412    -0.046620 -0.119853   \n",
       "40      704.44       696.33  7583230464     -0.117643    -0.006407 -0.152412   \n",
       "41      698.60       712.87  7673619968     -0.095825     0.023753 -0.117643   \n",
       "42      708.27       682.55  7507249664     -0.123745    -0.042532 -0.095825   \n",
       "43      684.04       683.38  7331830272     -0.112551     0.001216 -0.123745   \n",
       "44      680.76       676.53  7277320192     -0.089866    -0.010024 -0.112551   \n",
       "45      679.28       719.60  8618330112     -0.069250     0.063663 -0.089866   \n",
       "\n",
       "       lag_2     lag_3     lag_4     lag_5     lag_6     lag_7     lag_8  \\\n",
       "26  0.044053  0.022175 -0.009533  0.041343 -0.029031 -0.021168  0.002991   \n",
       "27  0.039829  0.044053  0.022175 -0.009533  0.041343 -0.029031 -0.021168   \n",
       "28 -0.021934  0.039829  0.044053  0.022175 -0.009533  0.041343 -0.029031   \n",
       "29 -0.046162 -0.021934  0.039829  0.044053  0.022175 -0.009533  0.041343   \n",
       "30 -0.011773 -0.046162 -0.021934  0.039829  0.044053  0.022175 -0.009533   \n",
       "31  0.001162 -0.011773 -0.046162 -0.021934  0.039829  0.044053  0.022175   \n",
       "32 -0.043940  0.001162 -0.011773 -0.046162 -0.021934  0.039829  0.044053   \n",
       "33 -0.059737 -0.043940  0.001162 -0.011773 -0.046162 -0.021934  0.039829   \n",
       "34 -0.064033 -0.059737 -0.043940  0.001162 -0.011773 -0.046162 -0.021934   \n",
       "35 -0.089614 -0.064033 -0.059737 -0.043940  0.001162 -0.011773 -0.046162   \n",
       "36 -0.144221 -0.089614 -0.064033 -0.059737 -0.043940  0.001162 -0.011773   \n",
       "37 -0.111221 -0.144221 -0.089614 -0.064033 -0.059737 -0.043940  0.001162   \n",
       "38 -0.075270 -0.111221 -0.144221 -0.089614 -0.064033 -0.059737 -0.043940   \n",
       "39 -0.097045 -0.075270 -0.111221 -0.144221 -0.089614 -0.064033 -0.059737   \n",
       "40 -0.119853 -0.097045 -0.075270 -0.111221 -0.144221 -0.089614 -0.064033   \n",
       "41 -0.152412 -0.119853 -0.097045 -0.075270 -0.111221 -0.144221 -0.089614   \n",
       "42 -0.117643 -0.152412 -0.119853 -0.097045 -0.075270 -0.111221 -0.144221   \n",
       "43 -0.095825 -0.117643 -0.152412 -0.119853 -0.097045 -0.075270 -0.111221   \n",
       "44 -0.123745 -0.095825 -0.117643 -0.152412 -0.119853 -0.097045 -0.075270   \n",
       "45 -0.112551 -0.123745 -0.095825 -0.117643 -0.152412 -0.119853 -0.097045   \n",
       "\n",
       "       lag_9       MACD     rsi_14      rsi_6  \n",
       "26  0.002638  -3.721304  39.270677  38.876991  \n",
       "27  0.002991  -4.287093  41.137371  43.083591  \n",
       "28 -0.021168  -4.574159  41.563641  44.100904  \n",
       "29 -0.029031  -5.351632  39.777225  39.252645  \n",
       "30  0.041343  -8.651936  32.905950  24.607448  \n",
       "31 -0.009533 -11.185732  32.784521  24.390035  \n",
       "32  0.022175 -13.738970  31.216460  21.507718  \n",
       "33  0.044053 -16.238659  29.778094  18.983226  \n",
       "34  0.039829 -20.006222  25.913290  13.337041  \n",
       "35 -0.021934 -20.481214  35.907491  38.017813  \n",
       "36 -0.046162 -21.239600  34.521233  34.736430  \n",
       "37 -0.011773 -22.504273  32.539546  30.160589  \n",
       "38  0.001162 -24.585989  29.829218  24.474357  \n",
       "39 -0.043940 -28.551062  25.423725  17.031026  \n",
       "40 -0.059737 -31.671463  24.904743  16.253840  \n",
       "41 -0.064033 -32.479805  30.530495  30.311584  \n",
       "42 -0.089614 -35.077507  26.596996  22.137292  \n",
       "43 -0.144221 -36.645523  26.874741  22.821000  \n",
       "44 -0.111221 -37.984332  26.000344  20.995193  \n",
       "45 -0.075270 -35.254429  39.359931  50.734408  "
      ]
     },
     "execution_count": 17,
     "metadata": {},
     "output_type": "execute_result"
    }
   ],
   "source": [
    "data_train = data_train[data_train.index <= 2263]\n",
    "data_train = data_train[26 <= data_train.index]\n",
    "data_train = data_train.drop(['Date', 'High Price', 'Low Price'], axis=1)\n",
    "data_train = data_train.fillna(0)\n",
    "data_train.head(20)"
   ]
  },
  {
   "cell_type": "code",
   "execution_count": 18,
   "metadata": {},
   "outputs": [
    {
     "data": {
      "text/plain": [
       "(2238, 17)"
      ]
     },
     "execution_count": 18,
     "metadata": {},
     "output_type": "execute_result"
    }
   ],
   "source": [
    "data_train.shape"
   ]
  },
  {
   "cell_type": "code",
   "execution_count": 19,
   "metadata": {},
   "outputs": [],
   "source": [
    "# x_train = data_train.loc[:, ['Open Price', 'Close Price', 'returnsPre10_lag_14_max', 'returnsPre10_lag_14_min']]"
   ]
  },
  {
   "cell_type": "markdown",
   "metadata": {},
   "source": [
    "## Modeling\n",
    "* Logistic Regression\n",
    "* Support Vector Machine\n",
    "* Neural Network"
   ]
  },
  {
   "cell_type": "markdown",
   "metadata": {},
   "source": [
    "### Test Data Preprocessing"
   ]
  },
  {
   "cell_type": "code",
   "execution_count": 20,
   "metadata": {},
   "outputs": [],
   "source": [
    "y_test_num, y_test = Next10Retruns(data_test)\n",
    "data_test = PreReturns(data_test)\n",
    "data_test = create_lags(data_test, features_to_lags)\n",
    "data_test = createIndex(data_test)\n",
    "data_test = data_test.drop(['Date', 'High Price', 'Low Price'], axis=1)\n",
    "data_test = data_test.fillna(0)\n",
    "\n",
    "# y_test_num, y_test = Next10Retruns(data_test2)\n",
    "# data_test2 = PreReturns(data_test2)\n",
    "# data_test2 = create_lags(data_test2, features_to_lags)\n",
    "# data_test2 = createIndex(data_test2)\n",
    "# data_test2 = data_test2.drop(['Date', 'High Price', 'Low Price'], axis=1)\n",
    "# data_test2 = data_test2.fillna(0)"
   ]
  },
  {
   "cell_type": "code",
   "execution_count": 21,
   "metadata": {},
   "outputs": [],
   "source": [
    "y_test_num = y_test_num.loc[18:269]\n",
    "y_test = y_test.loc[18:269]\n",
    "data_test = data_test.loc[18:269]\n",
    "# data_test2 = data_test2.loc[18:269]"
   ]
  },
  {
   "cell_type": "code",
   "execution_count": 22,
   "metadata": {},
   "outputs": [
    {
     "data": {
      "text/plain": [
       "[<matplotlib.lines.Line2D at 0x239221d5128>]"
      ]
     },
     "execution_count": 22,
     "metadata": {},
     "output_type": "execute_result"
    },
    {
     "data": {
      "image/png": "[encoded data removed]",
      "text/plain": [
       "<Figure size 432x288 with 1 Axes>"
      ]
     },
     "metadata": {
      "needs_background": "light"
     },
     "output_type": "display_data"
    }
   ],
   "source": [
    "plt.plot(y_test)\n",
    "# plt.axhline(0, color='black')"
   ]
  },
  {
   "cell_type": "markdown",
   "metadata": {},
   "source": [
    "### Logistic Regression"
   ]
  },
  {
   "cell_type": "code",
   "execution_count": 56,
   "metadata": {},
   "outputs": [],
   "source": [
    "def plotModelResults(model, X_train, X_test):\n",
    "    \n",
    "    if model == 'lgbm':\n",
    "        prediction = (model.predict(X_test)*2-1 >= 0).astype('int8')\n",
    "    elif model == 'model':\n",
    "        prediction = (model.predict(X_test)*2-1 >= 0).astype('int8')\n",
    "    else:\n",
    "        prediction = model.predict(X_test)\n",
    "    \n",
    "    plt.figure(figsize=(15, 7))\n",
    "    plt.plot(prediction, \"g\", label=\"prediction\", linewidth=2.0)\n",
    "    plt.plot(y_test.values, label=\"actual\", linewidth=2.0)\n",
    "    plt.legend(loc=\"best\")\n",
    "    plt.tight_layout()\n",
    "    plt.grid(True)"
   ]
  },
  {
   "cell_type": "code",
   "execution_count": 24,
   "metadata": {},
   "outputs": [],
   "source": [
    "def evaluate(model, x_train, y_train, x_test, y_test):\n",
    "    train_preds = model.predict(x_train)\n",
    "    test_preds = model.predict(x_test)\n",
    "    train_acc = metrics.accuracy_score(y_train, train_preds)\n",
    "    test_acc = metrics.accuracy_score(y_test, test_preds)\n",
    "    print('Train accuracy: %s' % train_acc)\n",
    "    print('Test accuracy: %s' % test_acc)"
   ]
  },
  {
   "cell_type": "code",
   "execution_count": 25,
   "metadata": {},
   "outputs": [],
   "source": [
    "def plot_feature(data, feature_name):\n",
    "    plt.figure(figsize=(10, 3))\n",
    "    plt.scatter(data[feature_name], y_train)\n",
    "    plt.xlabel(feature_name)\n",
    "    plt.ylabel('direction')\n",
    "    plt.show()\n",
    "\n",
    "# plot_feature(data_train, 'returnsPre10_lag_10_min')"
   ]
  },
  {
   "cell_type": "code",
   "execution_count": 26,
   "metadata": {},
   "outputs": [
    {
     "name": "stderr",
     "output_type": "stream",
     "text": [
      "C:\\Users\\USER\\Anaconda3\\lib\\site-packages\\sklearn\\preprocessing\\data.py:645: DataConversionWarning: Data with input dtype int64, float64 were all converted to float64 by StandardScaler.\n",
      "  return self.partial_fit(X, y)\n",
      "C:\\Users\\USER\\Anaconda3\\lib\\site-packages\\ipykernel_launcher.py:5: DataConversionWarning: Data with input dtype int64, float64 were all converted to float64 by StandardScaler.\n",
      "  \"\"\"\n",
      "C:\\Users\\USER\\Anaconda3\\lib\\site-packages\\ipykernel_launcher.py:6: DataConversionWarning: Data with input dtype int64, float64 were all converted to float64 by StandardScaler.\n",
      "  \n",
      "C:\\Users\\USER\\Anaconda3\\lib\\site-packages\\sklearn\\linear_model\\logistic.py:433: FutureWarning: Default solver will be changed to 'lbfgs' in 0.22. Specify a solver to silence this warning.\n",
      "  FutureWarning)\n"
     ]
    }
   ],
   "source": [
    "from sklearn.linear_model import LogisticRegression\n",
    "scaler = StandardScaler()\n",
    "\n",
    "scaler.fit(data_train)\n",
    "X_train_scaled = scaler.transform(data_train)\n",
    "X_test_scaled = scaler.transform(data_test)\n",
    "\n",
    "# scaler.fit(x_train)\n",
    "# X_train_scaled = scaler.transform(x_train)\n",
    "# X_test_scaled = scaler.transform(x_test)\n",
    "\n",
    "clf = LogisticRegression().fit(X_train_scaled, y_train)"
   ]
  },
  {
   "cell_type": "code",
   "execution_count": 27,
   "metadata": {},
   "outputs": [
    {
     "data": {
      "text/plain": [
       "array([1, 1, 1, 1, 1, 1, 1, 1, 1, 1, 1, 1, 1, 1, 1, 1, 1, 1, 1, 1, 1, 1,\n",
       "       1, 1, 1, 1, 1, 1, 1, 1, 1, 1, 1, 1, 1, 1, 1, 1, 1, 1, 1, 1, 1, 1,\n",
       "       1, 1, 1, 1, 1, 1, 1, 1, 1, 1, 1, 1, 1, 1, 1, 1, 1, 1, 1, 1, 1, 1,\n",
       "       1, 1, 1, 1, 1, 1, 1, 1, 1, 1, 1, 1, 1, 1, 1, 1, 1, 1, 1, 1, 1, 1,\n",
       "       1, 1, 1, 1, 1, 1, 1, 1, 1, 1, 1, 1, 1, 1, 1, 1, 1, 1, 1, 1, 1, 1,\n",
       "       1, 1, 1, 1, 1, 1, 1, 1, 1, 1, 1, 1, 1, 1, 1, 1, 1, 1, 1, 1, 1, 1,\n",
       "       1, 1, 1, 1, 1, 1, 1, 1, 1, 1, 1, 1, 1, 1, 1, 1, 1, 1, 1, 1, 1, 1,\n",
       "       1, 1, 1, 1, 1, 1, 1, 1, 1, 1, 1, 1, 1, 1, 1, 1, 1, 1, 1, 1, 1, 1,\n",
       "       1, 1, 1, 1, 1, 1, 1, 1, 1, 1, 1, 1, 1, 1, 1, 1, 1, 1, 1, 1, 1, 1,\n",
       "       1, 1, 1, 1, 1, 1, 1, 1, 1, 1, 1, 1, 1, 1, 1, 1, 1, 1, 1, 1, 1, 1,\n",
       "       1, 1, 1, 1, 1, 1, 1, 1, 1, 1, 1, 1, 1, 1, 1, 1, 1, 1, 1, 1, 1, 1,\n",
       "       1, 1, 1, 1, 1, 1, 1, 1, 1, 1], dtype=int8)"
      ]
     },
     "execution_count": 27,
     "metadata": {},
     "output_type": "execute_result"
    }
   ],
   "source": [
    "prediction = clf.predict(X_test_scaled)\n",
    "prediction"
   ]
  },
  {
   "cell_type": "code",
   "execution_count": 28,
   "metadata": {},
   "outputs": [
    {
     "name": "stdout",
     "output_type": "stream",
     "text": [
      "Train accuracy: 0.6385165326184093\n",
      "Test accuracy: 0.7420634920634921\n"
     ]
    }
   ],
   "source": [
    "evaluate(clf, X_train_scaled, y_train, X_test_scaled, y_test)"
   ]
  },
  {
   "cell_type": "code",
   "execution_count": 29,
   "metadata": {},
   "outputs": [],
   "source": [
    "# plotModelResults(clf, X_train_scaled, X_test_scaled)"
   ]
  },
  {
   "cell_type": "markdown",
   "metadata": {},
   "source": [
    "We can see that the logistic regression model predict almost all-rising direction of the testing data. It is because the data itself is **imbalance**, causing the model only have to guess '1', and it will get a accuracy of around 0.64 on the training data. Let's see if other method can resolve this problem."
   ]
  },
  {
   "cell_type": "markdown",
   "metadata": {},
   "source": [
    "### Support Vector Machine"
   ]
  },
  {
   "cell_type": "code",
   "execution_count": 30,
   "metadata": {},
   "outputs": [
    {
     "data": {
      "text/plain": [
       "SVC(C=0.5, cache_size=200, class_weight=None, coef0=0.0,\n",
       "  decision_function_shape='ovr', degree=3, gamma='auto_deprecated',\n",
       "  kernel='rbf', max_iter=-1, probability=True, random_state=None,\n",
       "  shrinking=True, tol=0.001, verbose=False)"
      ]
     },
     "execution_count": 30,
     "metadata": {},
     "output_type": "execute_result"
    }
   ],
   "source": [
    "from sklearn.svm import SVC\n",
    "penalty = 0.5\n",
    "\n",
    "svm = SVC(C=penalty, probability=True)\n",
    "svm.fit(X_train_scaled, y_train)"
   ]
  },
  {
   "cell_type": "code",
   "execution_count": 31,
   "metadata": {},
   "outputs": [],
   "source": [
    "# from sklearn.metrics import accuracy_score\n",
    "# acc_rate = accuracy_score(y_test, svm.predict(X_test_scaled)) * 100\n",
    "# print(\"Penalty = %.2f, Accuracy = %.2f %%\" % (penalty, acc_rate))"
   ]
  },
  {
   "cell_type": "code",
   "execution_count": 32,
   "metadata": {},
   "outputs": [
    {
     "data": {
      "text/plain": [
       "array([1, 1, 1, 1, 1, 1, 1, 1, 1, 1, 1, 1, 1, 1, 1, 1, 1, 1, 1, 1, 1, 1,\n",
       "       1, 1, 1, 1, 1, 1, 1, 1, 1, 1, 1, 1, 1, 1, 1, 1, 1, 1, 1, 1, 1, 1,\n",
       "       1, 1, 1, 1, 1, 1, 1, 1, 1, 1, 1, 1, 1, 1, 1, 1, 1, 1, 1, 1, 1, 1,\n",
       "       1, 1, 1, 1, 1, 1, 1, 1, 1, 1, 1, 1, 1, 1, 1, 1, 1, 1, 1, 1, 1, 1,\n",
       "       1, 1, 1, 1, 1, 1, 1, 1, 1, 1, 1, 1, 1, 1, 1, 1, 1, 1, 1, 1, 1, 1,\n",
       "       1, 1, 1, 1, 1, 1, 1, 1, 1, 1, 1, 1, 1, 1, 1, 1, 1, 1, 1, 1, 1, 1,\n",
       "       1, 1, 1, 1, 1, 1, 1, 1, 1, 1, 1, 1, 1, 1, 1, 1, 1, 1, 1, 1, 1, 1,\n",
       "       1, 1, 1, 1, 1, 1, 1, 1, 1, 1, 1, 1, 1, 1, 1, 1, 1, 1, 1, 1, 1, 1,\n",
       "       1, 1, 1, 1, 1, 1, 1, 1, 1, 1, 1, 1, 1, 1, 1, 1, 1, 1, 1, 1, 1, 1,\n",
       "       1, 1, 1, 1, 1, 1, 1, 1, 1, 1, 1, 1, 1, 1, 1, 1, 1, 1, 1, 1, 1, 1,\n",
       "       1, 1, 1, 1, 1, 1, 1, 1, 1, 1, 1, 1, 1, 1, 1, 1, 1, 1, 1, 1, 1, 1,\n",
       "       1, 1, 1, 1, 1, 1, 1, 1, 1, 1], dtype=int8)"
      ]
     },
     "execution_count": 32,
     "metadata": {},
     "output_type": "execute_result"
    }
   ],
   "source": [
    "prediction = svm.predict(X_test_scaled)\n",
    "prediction"
   ]
  },
  {
   "cell_type": "code",
   "execution_count": 33,
   "metadata": {},
   "outputs": [],
   "source": [
    "# plotModelResults(svm, X_train_scaled, X_test_scaled)"
   ]
  },
  {
   "cell_type": "code",
   "execution_count": 34,
   "metadata": {},
   "outputs": [
    {
     "name": "stdout",
     "output_type": "stream",
     "text": [
      "Train accuracy: 0.6416443252904379\n",
      "Test accuracy: 0.7420634920634921\n"
     ]
    }
   ],
   "source": [
    "evaluate(svm, X_train_scaled, y_train, X_test_scaled, y_test)"
   ]
  },
  {
   "cell_type": "markdown",
   "metadata": {},
   "source": [
    "The result is as same as the logistic regression. "
   ]
  },
  {
   "cell_type": "markdown",
   "metadata": {},
   "source": [
    "### Neural Network\n",
    "There are several tactics to deal with the imbalance data, one of them is set penalty to its weighting on the class which dominent the larger proportion. I will use this tactic in the NN approach."
   ]
  },
  {
   "cell_type": "code",
   "execution_count": 35,
   "metadata": {},
   "outputs": [],
   "source": [
    "hidden_units = 17    # how many neurons in the hidden layer\n",
    "activation = 'relu'  # activation function for hidden layer\n",
    "l2 = 0.001           # regularization - how much we penalize large parameter values\n",
    "learning_rate = 0.01 # how big our steps are in gradient descent\n",
    "epochs = 20          # how many epochs to train for\n",
    "batch_size = 32      # how many samples to use for each gradient descent update"
   ]
  },
  {
   "cell_type": "code",
   "execution_count": 36,
   "metadata": {},
   "outputs": [],
   "source": [
    "class_weight = {\n",
    "    0: 1.,\n",
    "    1: 809/1429 # there are 809 declines and 1429 rises\n",
    "}"
   ]
  },
  {
   "cell_type": "code",
   "execution_count": 60,
   "metadata": {},
   "outputs": [
    {
     "name": "stdout",
     "output_type": "stream",
     "text": [
      "_________________________________________________________________\n",
      "Layer (type)                 Output Shape              Param #   \n",
      "=================================================================\n",
      "dense_7 (Dense)              (None, 17)                306       \n",
      "_________________________________________________________________\n",
      "dense_8 (Dense)              (None, 17)                306       \n",
      "_________________________________________________________________\n",
      "dense_9 (Dense)              (None, 1)                 18        \n",
      "=================================================================\n",
      "Total params: 630\n",
      "Trainable params: 630\n",
      "Non-trainable params: 0\n",
      "_________________________________________________________________\n"
     ]
    }
   ],
   "source": [
    "# create a sequential model\n",
    "model = models.Sequential()\n",
    "\n",
    "# add the hidden layer\n",
    "model.add(layers.Dense(input_dim=17,\n",
    "                       units=hidden_units, \n",
    "                       activation=activation))\n",
    "\n",
    "model.add(layers.Dense(units=hidden_units, \n",
    "                       activation=activation))\n",
    "\n",
    "# add the output layer\n",
    "model.add(layers.Dense(input_dim=17,\n",
    "                       units=1,\n",
    "                       activation='sigmoid'))\n",
    "\n",
    "# define our loss function and optimizer\n",
    "model.compile(loss='binary_crossentropy',\n",
    "              # Adam is a kind of gradient descent\n",
    "              optimizer=optimizers.Adam(lr=learning_rate),\n",
    "              metrics=['accuracy'])\n",
    "model.summary()"
   ]
  },
  {
   "cell_type": "code",
   "execution_count": 61,
   "metadata": {},
   "outputs": [
    {
     "name": "stdout",
     "output_type": "stream",
     "text": [
      "Epoch 1/50\n",
      "2238/2238 [==============================] - ETA: 33s - loss: 0.4470 - acc: 0.56 - ETA: 0s - loss: 0.5007 - acc: 0.5285 - ETA: 0s - loss: 0.5044 - acc: 0.513 - 1s 263us/step - loss: 0.5047 - acc: 0.5134\n",
      "Epoch 2/50\n",
      "2238/2238 [==============================] - ETA: 0s - loss: 0.5029 - acc: 0.531 - ETA: 0s - loss: 0.4851 - acc: 0.539 - 0s 47us/step - loss: 0.4889 - acc: 0.5532\n",
      "Epoch 3/50\n",
      "2238/2238 [==============================] - ETA: 0s - loss: 0.5005 - acc: 0.437 - ETA: 0s - loss: 0.4841 - acc: 0.544 - ETA: 0s - loss: 0.4849 - acc: 0.551 - 0s 58us/step - loss: 0.4867 - acc: 0.5523\n",
      "Epoch 4/50\n",
      "2238/2238 [==============================] - ETA: 0s - loss: 0.4474 - acc: 0.531 - ETA: 0s - loss: 0.4705 - acc: 0.590 - ETA: 0s - loss: 0.4772 - acc: 0.572 - 0s 54us/step - loss: 0.4798 - acc: 0.5697\n",
      "Epoch 5/50\n",
      "2238/2238 [==============================] - ETA: 0s - loss: 0.4608 - acc: 0.593 - ETA: 0s - loss: 0.4806 - acc: 0.570 - ETA: 0s - loss: 0.4751 - acc: 0.584 - 0s 52us/step - loss: 0.4761 - acc: 0.5818\n",
      "Epoch 6/50\n",
      "2238/2238 [==============================] - ETA: 0s - loss: 0.4894 - acc: 0.562 - ETA: 0s - loss: 0.4606 - acc: 0.594 - 0s 49us/step - loss: 0.4745 - acc: 0.5813\n",
      "Epoch 7/50\n",
      "2238/2238 [==============================] - ETA: 0s - loss: 0.5066 - acc: 0.656 - ETA: 0s - loss: 0.4630 - acc: 0.616 - 0s 44us/step - loss: 0.4634 - acc: 0.6157\n",
      "Epoch 8/50\n",
      "2238/2238 [==============================] - ETA: 0s - loss: 0.4738 - acc: 0.437 - ETA: 0s - loss: 0.4661 - acc: 0.610 - 0s 44us/step - loss: 0.4644 - acc: 0.6086\n",
      "Epoch 9/50\n",
      "2238/2238 [==============================] - ETA: 0s - loss: 0.4120 - acc: 0.781 - ETA: 0s - loss: 0.4570 - acc: 0.617 - ETA: 0s - loss: 0.4617 - acc: 0.605 - 0s 57us/step - loss: 0.4620 - acc: 0.6130\n",
      "Epoch 10/50\n",
      "2238/2238 [==============================] - ETA: 0s - loss: 0.5133 - acc: 0.593 - ETA: 0s - loss: 0.4649 - acc: 0.606 - ETA: 0s - loss: 0.4604 - acc: 0.613 - 0s 55us/step - loss: 0.4570 - acc: 0.6175\n",
      "Epoch 11/50\n",
      "2238/2238 [==============================] - ETA: 0s - loss: 0.4411 - acc: 0.531 - ETA: 0s - loss: 0.4418 - acc: 0.653 - 0s 45us/step - loss: 0.4518 - acc: 0.6327\n",
      "Epoch 12/50\n",
      "2238/2238 [==============================] - ETA: 0s - loss: 0.3983 - acc: 0.562 - ETA: 0s - loss: 0.4417 - acc: 0.643 - ETA: 0s - loss: 0.4440 - acc: 0.640 - 0s 49us/step - loss: 0.4441 - acc: 0.6354\n",
      "Epoch 13/50\n",
      "2238/2238 [==============================] - ETA: 0s - loss: 0.3807 - acc: 0.781 - ETA: 0s - loss: 0.4453 - acc: 0.645 - ETA: 0s - loss: 0.4467 - acc: 0.631 - 0s 61us/step - loss: 0.4454 - acc: 0.6443\n",
      "Epoch 14/50\n",
      "2238/2238 [==============================] - ETA: 0s - loss: 0.4929 - acc: 0.656 - ETA: 0s - loss: 0.4440 - acc: 0.646 - 0s 36us/step - loss: 0.4405 - acc: 0.6452\n",
      "Epoch 15/50\n",
      "2238/2238 [==============================] - ETA: 0s - loss: 0.4073 - acc: 0.718 - ETA: 0s - loss: 0.4398 - acc: 0.635 - 0s 43us/step - loss: 0.4380 - acc: 0.6492\n",
      "Epoch 16/50\n",
      "2238/2238 [==============================] - ETA: 0s - loss: 0.3490 - acc: 0.750 - ETA: 0s - loss: 0.4339 - acc: 0.662 - 0s 27us/step - loss: 0.4320 - acc: 0.6649\n",
      "Epoch 17/50\n",
      "2238/2238 [==============================] - ETA: 0s - loss: 0.5193 - acc: 0.593 - ETA: 0s - loss: 0.4387 - acc: 0.677 - 0s 28us/step - loss: 0.4360 - acc: 0.6778\n",
      "Epoch 18/50\n",
      "2238/2238 [==============================] - ETA: 0s - loss: 0.3603 - acc: 0.656 - ETA: 0s - loss: 0.4376 - acc: 0.651 - 0s 32us/step - loss: 0.4354 - acc: 0.6533\n",
      "Epoch 19/50\n",
      "2238/2238 [==============================] - ETA: 0s - loss: 0.3969 - acc: 0.750 - ETA: 0s - loss: 0.4043 - acc: 0.703 - 0s 38us/step - loss: 0.4228 - acc: 0.6832\n",
      "Epoch 20/50\n",
      "2238/2238 [==============================] - ETA: 0s - loss: 0.4335 - acc: 0.656 - ETA: 0s - loss: 0.4325 - acc: 0.659 - 0s 44us/step - loss: 0.4282 - acc: 0.6653\n",
      "Epoch 21/50\n",
      "2238/2238 [==============================] - ETA: 0s - loss: 0.4850 - acc: 0.593 - ETA: 0s - loss: 0.4100 - acc: 0.688 - 0s 37us/step - loss: 0.4227 - acc: 0.6810\n",
      "Epoch 22/50\n",
      "2238/2238 [==============================] - ETA: 0s - loss: 0.4540 - acc: 0.562 - ETA: 0s - loss: 0.4142 - acc: 0.695 - 0s 35us/step - loss: 0.4164 - acc: 0.6859\n",
      "Epoch 23/50\n",
      "2238/2238 [==============================] - ETA: 0s - loss: 0.3594 - acc: 0.718 - ETA: 0s - loss: 0.4044 - acc: 0.696 - 0s 24us/step - loss: 0.4091 - acc: 0.6921\n",
      "Epoch 24/50\n",
      "2238/2238 [==============================] - ETA: 0s - loss: 0.3936 - acc: 0.687 - ETA: 0s - loss: 0.4223 - acc: 0.677 - 0s 28us/step - loss: 0.4220 - acc: 0.6774\n",
      "Epoch 25/50\n",
      "2238/2238 [==============================] - ETA: 0s - loss: 0.3617 - acc: 0.781 - ETA: 0s - loss: 0.4062 - acc: 0.698 - 0s 28us/step - loss: 0.4101 - acc: 0.6948\n",
      "Epoch 26/50\n",
      "2238/2238 [==============================] - ETA: 0s - loss: 0.4550 - acc: 0.656 - ETA: 0s - loss: 0.3983 - acc: 0.712 - 0s 35us/step - loss: 0.4084 - acc: 0.6926\n",
      "Epoch 27/50\n",
      "2238/2238 [==============================] - ETA: 0s - loss: 0.3966 - acc: 0.718 - ETA: 0s - loss: 0.3961 - acc: 0.712 - 0s 30us/step - loss: 0.3962 - acc: 0.7131\n",
      "Epoch 28/50\n",
      "2238/2238 [==============================] - ETA: 0s - loss: 0.3255 - acc: 0.781 - ETA: 0s - loss: 0.3964 - acc: 0.706 - 0s 35us/step - loss: 0.3967 - acc: 0.7096\n",
      "Epoch 29/50\n",
      "2238/2238 [==============================] - ETA: 0s - loss: 0.3292 - acc: 0.812 - ETA: 0s - loss: 0.3965 - acc: 0.704 - 0s 28us/step - loss: 0.3981 - acc: 0.7033\n",
      "Epoch 30/50\n",
      "2238/2238 [==============================] - ETA: 0s - loss: 0.3402 - acc: 0.718 - ETA: 0s - loss: 0.3996 - acc: 0.715 - 0s 34us/step - loss: 0.4034 - acc: 0.7109\n",
      "Epoch 31/50\n",
      "2238/2238 [==============================] - ETA: 0s - loss: 0.4267 - acc: 0.718 - ETA: 0s - loss: 0.3961 - acc: 0.714 - 0s 34us/step - loss: 0.3962 - acc: 0.7122\n",
      "Epoch 32/50\n",
      "2238/2238 [==============================] - ETA: 0s - loss: 0.4640 - acc: 0.656 - 0s 23us/step - loss: 0.3933 - acc: 0.7105\n",
      "Epoch 33/50\n",
      "2238/2238 [==============================] - ETA: 0s - loss: 0.3430 - acc: 0.750 - ETA: 0s - loss: 0.3916 - acc: 0.709 - 0s 30us/step - loss: 0.4000 - acc: 0.7002\n",
      "Epoch 34/50\n",
      "2238/2238 [==============================] - ETA: 0s - loss: 0.3275 - acc: 0.781 - ETA: 0s - loss: 0.3852 - acc: 0.716 - ETA: 0s - loss: 0.3865 - acc: 0.715 - 0s 54us/step - loss: 0.3889 - acc: 0.7127\n",
      "Epoch 35/50\n",
      "2238/2238 [==============================] - ETA: 0s - loss: 0.3922 - acc: 0.781 - ETA: 0s - loss: 0.3907 - acc: 0.717 - 0s 28us/step - loss: 0.3921 - acc: 0.7136\n",
      "Epoch 36/50\n",
      "2238/2238 [==============================] - ETA: 0s - loss: 0.4019 - acc: 0.656 - ETA: 0s - loss: 0.3869 - acc: 0.715 - 0s 37us/step - loss: 0.3797 - acc: 0.7189\n",
      "Epoch 37/50\n",
      "2238/2238 [==============================] - ETA: 0s - loss: 0.4196 - acc: 0.718 - ETA: 0s - loss: 0.3704 - acc: 0.733 - ETA: 0s - loss: 0.3800 - acc: 0.721 - 0s 51us/step - loss: 0.3801 - acc: 0.7216\n",
      "Epoch 38/50\n",
      "2238/2238 [==============================] - ETA: 0s - loss: 0.3502 - acc: 0.750 - ETA: 0s - loss: 0.3632 - acc: 0.731 - 0s 43us/step - loss: 0.3715 - acc: 0.7221\n",
      "Epoch 39/50\n",
      "2238/2238 [==============================] - ETA: 0s - loss: 0.3238 - acc: 0.843 - ETA: 0s - loss: 0.3802 - acc: 0.717 - 0s 35us/step - loss: 0.3847 - acc: 0.7105\n",
      "Epoch 40/50\n",
      "2238/2238 [==============================] - ETA: 0s - loss: 0.2798 - acc: 0.875 - ETA: 0s - loss: 0.3804 - acc: 0.726 - 0s 42us/step - loss: 0.3926 - acc: 0.7122\n",
      "Epoch 41/50\n",
      "2238/2238 [==============================] - ETA: 0s - loss: 0.4201 - acc: 0.656 - ETA: 0s - loss: 0.3771 - acc: 0.725 - 0s 35us/step - loss: 0.3735 - acc: 0.7368\n",
      "Epoch 42/50\n",
      "2238/2238 [==============================] - ETA: 0s - loss: 0.3474 - acc: 0.750 - ETA: 0s - loss: 0.3536 - acc: 0.735 - 0s 37us/step - loss: 0.3614 - acc: 0.7355\n",
      "Epoch 43/50\n",
      "2238/2238 [==============================] - ETA: 0s - loss: 0.3745 - acc: 0.625 - ETA: 0s - loss: 0.3669 - acc: 0.735 - 0s 35us/step - loss: 0.3654 - acc: 0.7328\n",
      "Epoch 44/50\n",
      "2238/2238 [==============================] - ETA: 0s - loss: 0.2299 - acc: 0.812 - ETA: 0s - loss: 0.3538 - acc: 0.755 - 0s 42us/step - loss: 0.3693 - acc: 0.7377\n",
      "Epoch 45/50\n",
      "2238/2238 [==============================] - ETA: 0s - loss: 0.3866 - acc: 0.718 - ETA: 0s - loss: 0.3552 - acc: 0.735 - 0s 35us/step - loss: 0.3624 - acc: 0.7265\n"
     ]
    },
    {
     "name": "stdout",
     "output_type": "stream",
     "text": [
      "Epoch 46/50\n",
      "2238/2238 [==============================] - ETA: 1s - loss: 0.3754 - acc: 0.812 - ETA: 0s - loss: 0.3606 - acc: 0.738 - 0s 35us/step - loss: 0.3604 - acc: 0.7382\n",
      "Epoch 47/50\n",
      "2238/2238 [==============================] - ETA: 0s - loss: 0.2911 - acc: 0.875 - ETA: 0s - loss: 0.3576 - acc: 0.743 - 0s 28us/step - loss: 0.3567 - acc: 0.7444\n",
      "Epoch 48/50\n",
      "2238/2238 [==============================] - ETA: 0s - loss: 0.4062 - acc: 0.781 - ETA: 0s - loss: 0.3487 - acc: 0.757 - 0s 39us/step - loss: 0.3508 - acc: 0.7542\n",
      "Epoch 49/50\n",
      "2238/2238 [==============================] - ETA: 0s - loss: 0.3246 - acc: 0.718 - ETA: 0s - loss: 0.3484 - acc: 0.748 - 0s 31us/step - loss: 0.3543 - acc: 0.7413\n",
      "Epoch 50/50\n",
      "2238/2238 [==============================] - ETA: 0s - loss: 0.4155 - acc: 0.625 - ETA: 0s - loss: 0.3499 - acc: 0.747 - 0s 33us/step - loss: 0.3517 - acc: 0.7471\n",
      "2238/2238 [==============================] - ETA:  - 0s 47us/step\n",
      "252/252 [==============================] - ETA:  - 0s 28us/step\n",
      "Training accuracy: 0.7743521000893655\n",
      "Testing accuracy: 0.809523810469915\n"
     ]
    },
    {
     "data": {
      "image/png": "[encoded data removed]",
      "text/plain": [
       "<Figure size 432x288 with 1 Axes>"
      ]
     },
     "metadata": {
      "needs_background": "light"
     },
     "output_type": "display_data"
    }
   ],
   "source": [
    "# train the parameters\n",
    "history = model.fit(X_train_scaled, y_train, epochs=50, batch_size=batch_size, class_weight=class_weight)\n",
    "\n",
    "# evaluate accuracy\n",
    "train_acc = model.evaluate(X_train_scaled, y_train, batch_size=32)[1]\n",
    "test_acc = model.evaluate(X_test_scaled, y_test, batch_size=32)[1]\n",
    "print('Training accuracy: %s' % train_acc)\n",
    "print('Testing accuracy: %s' % test_acc)\n",
    "\n",
    "losses = history.history['loss']\n",
    "plt.plot(range(len(losses)), losses, 'r')\n",
    "plt.show()"
   ]
  },
  {
   "cell_type": "code",
   "execution_count": 39,
   "metadata": {},
   "outputs": [
    {
     "name": "stdout",
     "output_type": "stream",
     "text": [
      "Train accuracy: 0.788650580875782\n",
      "Test accuracy: 0.7936507936507936\n"
     ]
    }
   ],
   "source": [
    "# pred = (model.predict(X_test_scaled)*2-1 >= 0).astype('int8')\n",
    "train_preds = (model.predict(X_train_scaled)*2-1 >= 0).astype('int8')\n",
    "test_preds = (model.predict(X_test_scaled)*2-1 >= 0).astype('int8')\n",
    "train_acc = metrics.accuracy_score(y_train, train_preds)\n",
    "test_acc = metrics.accuracy_score(y_test, test_preds)\n",
    "print('Train accuracy: %s' % train_acc)\n",
    "print('Test accuracy: %s' % test_acc)"
   ]
  },
  {
   "cell_type": "code",
   "execution_count": 57,
   "metadata": {},
   "outputs": [
    {
     "data": {
      "image/png": "[encoded data removed]",
      "text/plain": [
       "<Figure size 1080x504 with 1 Axes>"
      ]
     },
     "metadata": {
      "needs_background": "light"
     },
     "output_type": "display_data"
    }
   ],
   "source": [
    "plotModelResults(model, X_train_scaled, X_test_scaled)"
   ]
  },
  {
   "cell_type": "code",
   "execution_count": 40,
   "metadata": {},
   "outputs": [],
   "source": [
    "from tqdm import tqdm\n",
    "def train_and_evaluate(model, x_train, y_train, x_test, y_test, n=20):\n",
    "    train_accs = []\n",
    "    test_accs = []\n",
    "    with tqdm(total=n) as progress_bar:\n",
    "        for _ in range(n):\n",
    "            model.fit(\n",
    "                x_train, \n",
    "                y_train, \n",
    "                epochs=epochs, \n",
    "                batch_size=batch_size, \n",
    "                class_weight=class_weight, \n",
    "                verbose=False)\n",
    "            train_accs.append(model.evaluate(x_train, y_train, batch_size=32, verbose=False)[1])\n",
    "            test_accs.append(model.evaluate(x_test, y_test, batch_size=32, verbose=False)[1])\n",
    "            progress_bar.update()\n",
    "    print('Avgerage Training Accuracy: %s' % np.average(train_accs))\n",
    "    print('Avgerage Testing Accuracy: %s' % np.average(test_accs))\n",
    "    return train_accs, test_accs"
   ]
  },
  {
   "cell_type": "code",
   "execution_count": 41,
   "metadata": {},
   "outputs": [
    {
     "name": "stderr",
     "output_type": "stream",
     "text": [
      "100%|██████████| 20/20 [00:23<00:00,  1.16s/it]\n"
     ]
    },
    {
     "name": "stdout",
     "output_type": "stream",
     "text": [
      "Avgerage Training Accuracy: 0.8380026809331879\n",
      "Avgerage Testing Accuracy: 0.832738093960853\n"
     ]
    }
   ],
   "source": [
    "_, test_accs = train_and_evaluate(model, X_train_scaled, y_train, X_test_scaled, y_test)"
   ]
  },
  {
   "cell_type": "code",
   "execution_count": 42,
   "metadata": {},
   "outputs": [
    {
     "data": {
      "text/plain": [
       "0.8690476190476191"
      ]
     },
     "execution_count": 42,
     "metadata": {},
     "output_type": "execute_result"
    }
   ],
   "source": [
    "max(test_accs)"
   ]
  },
  {
   "cell_type": "markdown",
   "metadata": {},
   "source": [
    "### Try Other Models"
   ]
  },
  {
   "cell_type": "code",
   "execution_count": 43,
   "metadata": {},
   "outputs": [],
   "source": [
    "import lightgbm as lgb\n",
    "from sklearn.model_selection import train_test_split\n",
    "\n",
    "train_data=lgb.Dataset(X_train_scaled,label=y_train)\n",
    "valid_data=lgb.Dataset(X_test_scaled,label=y_test)"
   ]
  },
  {
   "cell_type": "code",
   "execution_count": 44,
   "metadata": {},
   "outputs": [],
   "source": [
    "params = {'boosting_type': 'gbdt',\n",
    "          'max_depth' : -1,\n",
    "          'objective': 'regression',\n",
    "          'nthread': 4,\n",
    "          'num_leaves': 34,\n",
    "          'learning_rate': 0.005,\n",
    "          'subsample': 0.8,\n",
    "          'subsample_freq': 1,\n",
    "          'colsample_bytree': 0.8,\n",
    "          'min_split_gain': 0.5,\n",
    "          'min_child_weight': 1,\n",
    "          'min_child_samples': 1,\n",
    "          'metric' : 'auc'\n",
    "          }"
   ]
  },
  {
   "cell_type": "code",
   "execution_count": 45,
   "metadata": {},
   "outputs": [
    {
     "name": "stdout",
     "output_type": "stream",
     "text": [
      "Training until validation scores don't improve for 40 rounds.\n",
      "[20]\tvalid_0's auc: 0.826656\n",
      "[40]\tvalid_0's auc: 0.823077\n",
      "Early stopping, best iteration is:\n",
      "[8]\tvalid_0's auc: 0.838091\n"
     ]
    }
   ],
   "source": [
    "lgbm = lgb.train(params,\n",
    "                 train_data,\n",
    "                 25000,\n",
    "                 valid_sets=valid_data,\n",
    "                 early_stopping_rounds= 40,\n",
    "                 verbose_eval= 20\n",
    "                 )"
   ]
  },
  {
   "cell_type": "code",
   "execution_count": 46,
   "metadata": {},
   "outputs": [
    {
     "name": "stdout",
     "output_type": "stream",
     "text": [
      "Train accuracy: 0.6385165326184093\n",
      "Test accuracy: 0.7420634920634921\n"
     ]
    }
   ],
   "source": [
    "train_preds = (lgbm.predict(X_train_scaled)*2-1 >= 0).astype('int8')\n",
    "test_preds = (lgbm.predict(X_test_scaled)*2-1 >= 0).astype('int8')\n",
    "train_acc = metrics.accuracy_score(y_train, train_preds)\n",
    "test_acc = metrics.accuracy_score(y_test, test_preds)\n",
    "print('Train accuracy: %s' % train_acc)\n",
    "print('Test accuracy: %s' % test_acc)"
   ]
  },
  {
   "cell_type": "code",
   "execution_count": 47,
   "metadata": {},
   "outputs": [
    {
     "data": {
      "text/plain": [
       "array([1, 1, 1, 1, 1, 1, 1, 1, 1, 1, 1, 1, 1, 1, 1, 1, 1, 1, 1, 1, 1, 1,\n",
       "       1, 1, 1, 1, 1, 1, 1, 1, 1, 1, 1, 1, 1, 1, 1, 1, 1, 1, 1, 1, 1, 1,\n",
       "       1, 1, 1, 1, 1, 1, 1, 1, 1, 1, 1, 1, 1, 1, 1, 1, 1, 1, 1, 1, 1, 1,\n",
       "       1, 1, 1, 1, 1, 1, 1, 1, 1, 1, 1, 1, 1, 1, 1, 1, 1, 1, 1, 1, 1, 1,\n",
       "       1, 1, 1, 1, 1, 1, 1, 1, 1, 1, 1, 1, 1, 1, 1, 1, 1, 1, 1, 1, 1, 1,\n",
       "       1, 1, 1, 1, 1, 1, 1, 1, 1, 1, 1, 1, 1, 1, 1, 1, 1, 1, 1, 1, 1, 1,\n",
       "       1, 1, 1, 1, 1, 1, 1, 1, 1, 1, 1, 1, 1, 1, 1, 1, 1, 1, 1, 1, 1, 1,\n",
       "       1, 1, 1, 1, 1, 1, 1, 1, 1, 1, 1, 1, 1, 1, 1, 1, 1, 1, 1, 1, 1, 1,\n",
       "       1, 1, 1, 1, 1, 1, 1, 1, 1, 1, 1, 1, 1, 1, 1, 1, 1, 1, 1, 1, 1, 1,\n",
       "       1, 1, 1, 1, 1, 1, 1, 1, 1, 1, 1, 1, 1, 1, 1, 1, 1, 1, 1, 1, 1, 1,\n",
       "       1, 1, 1, 1, 1, 1, 1, 1, 1, 1, 1, 1, 1, 1, 1, 1, 1, 1, 1, 1, 1, 1,\n",
       "       1, 1, 1, 1, 1, 1, 1, 1, 1, 1], dtype=int8)"
      ]
     },
     "execution_count": 47,
     "metadata": {},
     "output_type": "execute_result"
    }
   ],
   "source": [
    "prediction = lgbm.predict(X_test_scaled)*2-1\n",
    "(prediction >= 0).astype('int8')"
   ]
  },
  {
   "cell_type": "code",
   "execution_count": 48,
   "metadata": {},
   "outputs": [
    {
     "data": {
      "text/plain": [
       "<matplotlib.axes._subplots.AxesSubplot at 0x239248bec88>"
      ]
     },
     "execution_count": 48,
     "metadata": {},
     "output_type": "execute_result"
    },
    {
     "data": {
      "image/png": "[encoded data removed]",
      "text/plain": [
       "<Figure size 864x720 with 1 Axes>"
      ]
     },
     "metadata": {
      "needs_background": "light"
     },
     "output_type": "display_data"
    }
   ],
   "source": [
    "lgb.plot_importance(lgbm, height=0.5, ignore_zero = False, figsize = (12,10), importance_type ='gain')"
   ]
  }
 ],
 "metadata": {
  "kernelspec": {
   "display_name": "Python 3",
   "language": "python",
   "name": "python3"
  },
  "language_info": {
   "codemirror_mode": {
    "name": "ipython",
    "version": 3
   },
   "file_extension": ".py",
   "mimetype": "text/x-python",
   "name": "python",
   "nbconvert_exporter": "python",
   "pygments_lexer": "ipython3",
   "version": "3.6.8"
  }
 },
 "nbformat": 4,
 "nbformat_minor": 2
}
